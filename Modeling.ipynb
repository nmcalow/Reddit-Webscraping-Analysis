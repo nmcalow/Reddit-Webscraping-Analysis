{
 "cells": [
  {
   "cell_type": "code",
   "execution_count": 1,
   "metadata": {},
   "outputs": [],
   "source": [
    "import pandas as pd\n",
    "import requests\n",
    "from bs4 import BeautifulSoup\n",
    "\n",
    "import matplotlib.pyplot as plt\n",
    "import seaborn as sns\n",
    "import numpy as np\n",
    "\n",
    "\n",
    "import regex as re\n",
    "import nltk\n",
    "\n",
    "from nltk.stem import WordNetLemmatizer\n",
    "from nltk.tokenize import RegexpTokenizer\n",
    "from nltk.stem.porter import PorterStemmer\n",
    "\n",
    "from sklearn.model_selection import train_test_split\n",
    "from sklearn.linear_model import LogisticRegression\n",
    "\n",
    "from nltk.corpus import stopwords\n",
    "from sklearn.feature_extraction.text import CountVectorizer\n",
    "\n",
    "import time\n",
    "\n",
    "from sklearn.ensemble import GradientBoostingClassifier, AdaBoostClassifier, VotingClassifier\n",
    "from sklearn.model_selection import train_test_split, GridSearchCV\n",
    "from sklearn.tree import DecisionTreeClassifier\n",
    "\n",
    "from sklearn.pipeline import Pipeline\n",
    "\n",
    "from sklearn.metrics import confusion_matrix"
   ]
  },
  {
   "cell_type": "code",
   "execution_count": 2,
   "metadata": {},
   "outputs": [
    {
     "data": {
      "text/html": [
       "<div>\n",
       "<style scoped>\n",
       "    .dataframe tbody tr th:only-of-type {\n",
       "        vertical-align: middle;\n",
       "    }\n",
       "\n",
       "    .dataframe tbody tr th {\n",
       "        vertical-align: top;\n",
       "    }\n",
       "\n",
       "    .dataframe thead th {\n",
       "        text-align: right;\n",
       "    }\n",
       "</style>\n",
       "<table border=\"1\" class=\"dataframe\">\n",
       "  <thead>\n",
       "    <tr style=\"text-align: right;\">\n",
       "      <th></th>\n",
       "      <th>author</th>\n",
       "      <th>id</th>\n",
       "      <th>selftext</th>\n",
       "      <th>title</th>\n",
       "      <th>subreddit_tifu</th>\n",
       "      <th>text</th>\n",
       "      <th>line_count</th>\n",
       "    </tr>\n",
       "  </thead>\n",
       "  <tbody>\n",
       "    <tr>\n",
       "      <th>0</th>\n",
       "      <td>Funguy0623</td>\n",
       "      <td>cafv59</td>\n",
       "      <td>This LITERALLY just happened. I was on the pho...</td>\n",
       "      <td>TIFU by accidentally causing a cat to get run ...</td>\n",
       "      <td>1</td>\n",
       "      <td>TIFU by accidentally causing a cat to get run ...</td>\n",
       "      <td>2</td>\n",
       "    </tr>\n",
       "    <tr>\n",
       "      <th>1</th>\n",
       "      <td>Throwaway678495</td>\n",
       "      <td>82vog8</td>\n",
       "      <td>So unlike many of the stories here, this one d...</td>\n",
       "      <td>TIFU by getting a girls phone number</td>\n",
       "      <td>1</td>\n",
       "      <td>TIFU by getting a girls phone number So unlike...</td>\n",
       "      <td>2</td>\n",
       "    </tr>\n",
       "    <tr>\n",
       "      <th>2</th>\n",
       "      <td>capj23</td>\n",
       "      <td>c3lqoh</td>\n",
       "      <td>Obligatory, this happened 14 years ago and I w...</td>\n",
       "      <td>TIFU by climbing too far on my uncle</td>\n",
       "      <td>1</td>\n",
       "      <td>TIFU by climbing too far on my uncle Obligator...</td>\n",
       "      <td>8</td>\n",
       "    </tr>\n",
       "    <tr>\n",
       "      <th>3</th>\n",
       "      <td>dognass</td>\n",
       "      <td>cacjwi</td>\n",
       "      <td>Right not sure how to go about this, but here ...</td>\n",
       "      <td>TIFU Dog and Ass</td>\n",
       "      <td>1</td>\n",
       "      <td>TIFU Dog and Ass Right not sure how to go abou...</td>\n",
       "      <td>16</td>\n",
       "    </tr>\n",
       "    <tr>\n",
       "      <th>4</th>\n",
       "      <td>SourBitchKids</td>\n",
       "      <td>caj1fz</td>\n",
       "      <td>I recently came into the possession of a new k...</td>\n",
       "      <td>TIFU by smoking too much weed and going into a...</td>\n",
       "      <td>1</td>\n",
       "      <td>TIFU by smoking too much weed and going into a...</td>\n",
       "      <td>4</td>\n",
       "    </tr>\n",
       "  </tbody>\n",
       "</table>\n",
       "</div>"
      ],
      "text/plain": [
       "            author      id                                           selftext  \\\n",
       "0       Funguy0623  cafv59  This LITERALLY just happened. I was on the pho...   \n",
       "1  Throwaway678495  82vog8  So unlike many of the stories here, this one d...   \n",
       "2           capj23  c3lqoh  Obligatory, this happened 14 years ago and I w...   \n",
       "3          dognass  cacjwi  Right not sure how to go about this, but here ...   \n",
       "4    SourBitchKids  caj1fz  I recently came into the possession of a new k...   \n",
       "\n",
       "                                               title  subreddit_tifu  \\\n",
       "0  TIFU by accidentally causing a cat to get run ...               1   \n",
       "1               TIFU by getting a girls phone number               1   \n",
       "2               TIFU by climbing too far on my uncle               1   \n",
       "3                                   TIFU Dog and Ass               1   \n",
       "4  TIFU by smoking too much weed and going into a...               1   \n",
       "\n",
       "                                                text  line_count  \n",
       "0  TIFU by accidentally causing a cat to get run ...           2  \n",
       "1  TIFU by getting a girls phone number So unlike...           2  \n",
       "2  TIFU by climbing too far on my uncle Obligator...           8  \n",
       "3  TIFU Dog and Ass Right not sure how to go abou...          16  \n",
       "4  TIFU by smoking too much weed and going into a...           4  "
      ]
     },
     "execution_count": 2,
     "metadata": {},
     "output_type": "execute_result"
    }
   ],
   "source": [
    "df = pd.read_csv('final.csv')\n",
    "df.head()"
   ]
  },
  {
   "cell_type": "code",
   "execution_count": 3,
   "metadata": {},
   "outputs": [],
   "source": [
    "X = df['text']\n",
    "y = df['subreddit_tifu']"
   ]
  },
  {
   "cell_type": "code",
   "execution_count": 4,
   "metadata": {},
   "outputs": [],
   "source": [
    "stops = stopwords.words(\"ENGLISH\")"
   ]
  },
  {
   "cell_type": "code",
   "execution_count": 5,
   "metadata": {},
   "outputs": [],
   "source": [
    "X_train, X_test, y_train, y_test = train_test_split(X,y,random_state = 42, stratify = y)"
   ]
  },
  {
   "cell_type": "markdown",
   "metadata": {},
   "source": [
    "## My first model. It got such good results that I wanted to see what else I could do"
   ]
  },
  {
   "cell_type": "code",
   "execution_count": 6,
   "metadata": {},
   "outputs": [
    {
     "name": "stdout",
     "output_type": "stream",
     "text": [
      "Fitting 5 folds for each of 28 candidates, totalling 140 fits\n"
     ]
    },
    {
     "name": "stderr",
     "output_type": "stream",
     "text": [
      "[Parallel(n_jobs=-1)]: Using backend LokyBackend with 8 concurrent workers.\n",
      "[Parallel(n_jobs=-1)]: Done  34 tasks      | elapsed:   10.5s\n",
      "[Parallel(n_jobs=-1)]: Done 140 out of 140 | elapsed:   29.9s finished\n"
     ]
    },
    {
     "name": "stdout",
     "output_type": "stream",
     "text": [
      "0.9961111111111111\n"
     ]
    },
    {
     "data": {
      "text/plain": [
       "{'cvec__max_features': 500,\n",
       " 'cvec__ngram_range': (1, 2),\n",
       " 'cvec__stop_words': ['i',\n",
       "  'me',\n",
       "  'my',\n",
       "  'myself',\n",
       "  'we',\n",
       "  'our',\n",
       "  'ours',\n",
       "  'ourselves',\n",
       "  'you',\n",
       "  \"you're\",\n",
       "  \"you've\",\n",
       "  \"you'll\",\n",
       "  \"you'd\",\n",
       "  'your',\n",
       "  'yours',\n",
       "  'yourself',\n",
       "  'yourselves',\n",
       "  'he',\n",
       "  'him',\n",
       "  'his',\n",
       "  'himself',\n",
       "  'she',\n",
       "  \"she's\",\n",
       "  'her',\n",
       "  'hers',\n",
       "  'herself',\n",
       "  'it',\n",
       "  \"it's\",\n",
       "  'its',\n",
       "  'itself',\n",
       "  'they',\n",
       "  'them',\n",
       "  'their',\n",
       "  'theirs',\n",
       "  'themselves',\n",
       "  'what',\n",
       "  'which',\n",
       "  'who',\n",
       "  'whom',\n",
       "  'this',\n",
       "  'that',\n",
       "  \"that'll\",\n",
       "  'these',\n",
       "  'those',\n",
       "  'am',\n",
       "  'is',\n",
       "  'are',\n",
       "  'was',\n",
       "  'were',\n",
       "  'be',\n",
       "  'been',\n",
       "  'being',\n",
       "  'have',\n",
       "  'has',\n",
       "  'had',\n",
       "  'having',\n",
       "  'do',\n",
       "  'does',\n",
       "  'did',\n",
       "  'doing',\n",
       "  'a',\n",
       "  'an',\n",
       "  'the',\n",
       "  'and',\n",
       "  'but',\n",
       "  'if',\n",
       "  'or',\n",
       "  'because',\n",
       "  'as',\n",
       "  'until',\n",
       "  'while',\n",
       "  'of',\n",
       "  'at',\n",
       "  'by',\n",
       "  'for',\n",
       "  'with',\n",
       "  'about',\n",
       "  'against',\n",
       "  'between',\n",
       "  'into',\n",
       "  'through',\n",
       "  'during',\n",
       "  'before',\n",
       "  'after',\n",
       "  'above',\n",
       "  'below',\n",
       "  'to',\n",
       "  'from',\n",
       "  'up',\n",
       "  'down',\n",
       "  'in',\n",
       "  'out',\n",
       "  'on',\n",
       "  'off',\n",
       "  'over',\n",
       "  'under',\n",
       "  'again',\n",
       "  'further',\n",
       "  'then',\n",
       "  'once',\n",
       "  'here',\n",
       "  'there',\n",
       "  'when',\n",
       "  'where',\n",
       "  'why',\n",
       "  'how',\n",
       "  'all',\n",
       "  'any',\n",
       "  'both',\n",
       "  'each',\n",
       "  'few',\n",
       "  'more',\n",
       "  'most',\n",
       "  'other',\n",
       "  'some',\n",
       "  'such',\n",
       "  'no',\n",
       "  'nor',\n",
       "  'not',\n",
       "  'only',\n",
       "  'own',\n",
       "  'same',\n",
       "  'so',\n",
       "  'than',\n",
       "  'too',\n",
       "  'very',\n",
       "  's',\n",
       "  't',\n",
       "  'can',\n",
       "  'will',\n",
       "  'just',\n",
       "  'don',\n",
       "  \"don't\",\n",
       "  'should',\n",
       "  \"should've\",\n",
       "  'now',\n",
       "  'd',\n",
       "  'll',\n",
       "  'm',\n",
       "  'o',\n",
       "  're',\n",
       "  've',\n",
       "  'y',\n",
       "  'ain',\n",
       "  'aren',\n",
       "  \"aren't\",\n",
       "  'couldn',\n",
       "  \"couldn't\",\n",
       "  'didn',\n",
       "  \"didn't\",\n",
       "  'doesn',\n",
       "  \"doesn't\",\n",
       "  'hadn',\n",
       "  \"hadn't\",\n",
       "  'hasn',\n",
       "  \"hasn't\",\n",
       "  'haven',\n",
       "  \"haven't\",\n",
       "  'isn',\n",
       "  \"isn't\",\n",
       "  'ma',\n",
       "  'mightn',\n",
       "  \"mightn't\",\n",
       "  'mustn',\n",
       "  \"mustn't\",\n",
       "  'needn',\n",
       "  \"needn't\",\n",
       "  'shan',\n",
       "  \"shan't\",\n",
       "  'shouldn',\n",
       "  \"shouldn't\",\n",
       "  'wasn',\n",
       "  \"wasn't\",\n",
       "  'weren',\n",
       "  \"weren't\",\n",
       "  'won',\n",
       "  \"won't\",\n",
       "  'wouldn',\n",
       "  \"wouldn't\"]}"
      ]
     },
     "execution_count": 6,
     "metadata": {},
     "output_type": "execute_result"
    }
   ],
   "source": [
    "#figure out the proper parameters for CountVectorizer before I wrap it in a couple of other models\n",
    "params_cvec = {\n",
    "    'cvec__max_features': [100,200,300,400,500,600,700],\n",
    "    'cvec__stop_words': [stops, None],\n",
    "    'cvec__ngram_range': [(1,1), (1,2)]\n",
    "}\n",
    "pipe_cvec = Pipeline([('cvec', CountVectorizer()), ('tree', DecisionTreeClassifier(random_state = 42))])\n",
    "grid_cvec = GridSearchCV(pipe_cvec, param_grid = params_cvec, n_jobs = -1, verbose = True, cv = 5)\n",
    "grid_cvec.fit(X_train, y_train)\n",
    "print(grid_cvec.best_score_)\n",
    "grid_cvec.best_params_"
   ]
  },
  {
   "cell_type": "code",
   "execution_count": 7,
   "metadata": {
    "scrolled": true
   },
   "outputs": [
    {
     "data": {
      "text/plain": [
       "1.0"
      ]
     },
     "execution_count": 7,
     "metadata": {},
     "output_type": "execute_result"
    }
   ],
   "source": [
    "grid_cvec.score(X_test, y_test)"
   ]
  },
  {
   "cell_type": "code",
   "execution_count": 8,
   "metadata": {},
   "outputs": [
    {
     "data": {
      "text/html": [
       "<div>\n",
       "<style scoped>\n",
       "    .dataframe tbody tr th:only-of-type {\n",
       "        vertical-align: middle;\n",
       "    }\n",
       "\n",
       "    .dataframe tbody tr th {\n",
       "        vertical-align: top;\n",
       "    }\n",
       "\n",
       "    .dataframe thead th {\n",
       "        text-align: right;\n",
       "    }\n",
       "</style>\n",
       "<table border=\"1\" class=\"dataframe\">\n",
       "  <thead>\n",
       "    <tr style=\"text-align: right;\">\n",
       "      <th></th>\n",
       "      <th>pred nsq</th>\n",
       "      <th>pred tifu</th>\n",
       "    </tr>\n",
       "  </thead>\n",
       "  <tbody>\n",
       "    <tr>\n",
       "      <th>actual nsq</th>\n",
       "      <td>300</td>\n",
       "      <td>0</td>\n",
       "    </tr>\n",
       "    <tr>\n",
       "      <th>actual tifu</th>\n",
       "      <td>0</td>\n",
       "      <td>300</td>\n",
       "    </tr>\n",
       "  </tbody>\n",
       "</table>\n",
       "</div>"
      ],
      "text/plain": [
       "             pred nsq  pred tifu\n",
       "actual nsq        300          0\n",
       "actual tifu         0        300"
      ]
     },
     "execution_count": 8,
     "metadata": {},
     "output_type": "execute_result"
    }
   ],
   "source": [
    "pred_cvec = grid_cvec.predict(X_test)\n",
    "pd.DataFrame(confusion_matrix(y_test, pred_cvec), columns = ['pred nsq', 'pred tifu'], index = ['actual nsq', 'actual tifu'])\n"
   ]
  },
  {
   "cell_type": "markdown",
   "metadata": {},
   "source": [
    "### I wanted to make two models showing different things. Every post on r/tifu starts with...TIFU. I wanted to know if the model would do as well if I removed that from everything and redid it."
   ]
  },
  {
   "cell_type": "code",
   "execution_count": 9,
   "metadata": {},
   "outputs": [],
   "source": [
    "X_no_tifu = X.str.replace('TIFU', '')\n",
    "X_no_tifu = X_no_tifu.str.replace('Tifu', '')\n",
    "X_no_tifu = X_no_tifu.str.replace('tifu', '')\n",
    "X_no_tifu = X_no_tifu.str.replace('by', '')\n",
    "X_no_tifu = X_no_tifu.str.replace('By', '')"
   ]
  },
  {
   "cell_type": "code",
   "execution_count": 10,
   "metadata": {},
   "outputs": [
    {
     "data": {
      "text/plain": [
       "'Is there a website where I can find out about all the Australian Aboriginal soldiers who fought in both the Second World War and the Korean War? '"
      ]
     },
     "execution_count": 10,
     "metadata": {},
     "output_type": "execute_result"
    }
   ],
   "source": [
    "X_no_tifu[1837]"
   ]
  },
  {
   "cell_type": "code",
   "execution_count": 11,
   "metadata": {},
   "outputs": [
    {
     "data": {
      "text/plain": [
       "100       making everyone in the elevator think that t...\n",
       "1693    What are the socially accepted timespans to na...\n",
       "41        saying a stupid word at work So this did act...\n",
       "876       being a virgin and having practice sex with ...\n",
       "171       making my wife think I fancy my mother. Obli...\n",
       "1920    How did Noah keep all the animals under contro...\n",
       "1543    Is there a word that means that something you'...\n",
       "1521    Could a human survive if their body from their...\n",
       "1267    My brother died in a power line accident, did ...\n",
       "2006    How can anyone deny climate change when it's o...\n",
       "2335    If the biological purpose of sex and attractio...\n",
       "690       having my roomate walk in while I was practi...\n",
       "348       not understanding that 3.5 grams can be a fu...\n",
       "2124    Female human have period. Why don't female cat...\n",
       "745       ingesting my bf's chemo Figured it out today...\n",
       "836       accidentally being overly sexual to my cowor...\n",
       "614      because I disappointet my very best friend fo...\n",
       "675       accidentally starting a group call while che...\n",
       "1330    I'm a man, when I'm taking a whiz and I fart m...\n",
       "83        drawing a penis on a 9/11 tribute So at my c...\n",
       "1231    Why did my mom start laughing hysterically bef...\n",
       "788       not taking off my Apple Watch or disabling t...\n",
       "1777    Is it weird to rub a female dog's belly becaus...\n",
       "689       telling my girlfriends mom she would convert...\n",
       "160       leaving my dad's expensive convertible sport...\n",
       "476       believing I had a small penis (NSFW) Obligat...\n",
       "1310    HR phone interview after hiring manager interv...\n",
       "1520    Is being a vegetarian bad for your health? Jus...\n",
       "1806    Do people who have lost a limb(s) notice a dif...\n",
       "1215    Do people who dislike the word moist have a pr...\n",
       "963       eating orzo pasta when I’m gluten free I’m g...\n",
       "1564    If the whole world got together and planted a ...\n",
       "2106    If I put a straw in my urethra, would my penis...\n",
       "248       telling my dad's friends he was in the hospi...\n",
       "1189      accidentally roasting one of my patients. Th...\n",
       "Name: text, dtype: object"
      ]
     },
     "execution_count": 11,
     "metadata": {},
     "output_type": "execute_result"
    }
   ],
   "source": [
    "X_no_tifu.sample(35)"
   ]
  },
  {
   "cell_type": "code",
   "execution_count": 12,
   "metadata": {},
   "outputs": [],
   "source": [
    "X_train_no_tifu, X_test_no_tifu, y_train_no_tifu, y_test_no_tifu = train_test_split(X_no_tifu,y,random_state = 42, stratify = y)"
   ]
  },
  {
   "cell_type": "markdown",
   "metadata": {},
   "source": [
    "## Spent a while tuning parameters, as one does"
   ]
  },
  {
   "cell_type": "code",
   "execution_count": 13,
   "metadata": {},
   "outputs": [
    {
     "name": "stdout",
     "output_type": "stream",
     "text": [
      "Fitting 5 folds for each of 288 candidates, totalling 1440 fits\n"
     ]
    },
    {
     "name": "stderr",
     "output_type": "stream",
     "text": [
      "[Parallel(n_jobs=-1)]: Using backend LokyBackend with 8 concurrent workers.\n",
      "[Parallel(n_jobs=-1)]: Done  34 tasks      | elapsed:    3.8s\n",
      "[Parallel(n_jobs=-1)]: Done 184 tasks      | elapsed:   20.7s\n",
      "[Parallel(n_jobs=-1)]: Done 434 tasks      | elapsed:  1.4min\n",
      "[Parallel(n_jobs=-1)]: Done 784 tasks      | elapsed:  2.6min\n",
      "[Parallel(n_jobs=-1)]: Done 1234 tasks      | elapsed:  4.1min\n",
      "[Parallel(n_jobs=-1)]: Done 1440 out of 1440 | elapsed:  5.2min finished\n"
     ]
    },
    {
     "name": "stdout",
     "output_type": "stream",
     "text": [
      "0.9638888888888889\n"
     ]
    },
    {
     "data": {
      "text/plain": [
       "{'cvec__max_features': 370,\n",
       " 'cvec__ngram_range': (1, 1),\n",
       " 'tree__max_depth': 40,\n",
       " 'tree__min_samples_leaf': 3,\n",
       " 'tree__min_samples_split': 5}"
      ]
     },
     "execution_count": 13,
     "metadata": {},
     "output_type": "execute_result"
    }
   ],
   "source": [
    "\n",
    "params_cvec = {\n",
    "    'cvec__max_features': [70,170,270,370],\n",
    "    'cvec__ngram_range': [(1,1), (1,2)],\n",
    "    'tree__max_depth': [40,50,60],\n",
    "    'tree__min_samples_split': [5,6,7],\n",
    "    'tree__min_samples_leaf': [1,2,3,4]\n",
    "}\n",
    "pipe_cvec = Pipeline([('cvec', CountVectorizer()), ('tree', DecisionTreeClassifier(random_state = 42))])\n",
    "grid_cvec = GridSearchCV(pipe_cvec, param_grid = params_cvec, n_jobs = -1, verbose = True, cv = 5)\n",
    "grid_cvec.fit(X_train_no_tifu, y_train_no_tifu)\n",
    "print(grid_cvec.best_score_)\n",
    "grid_cvec.best_params_"
   ]
  },
  {
   "cell_type": "code",
   "execution_count": 14,
   "metadata": {},
   "outputs": [
    {
     "data": {
      "text/plain": [
       "0.9716666666666667"
      ]
     },
     "execution_count": 14,
     "metadata": {},
     "output_type": "execute_result"
    }
   ],
   "source": [
    "grid_cvec.score(X_test_no_tifu, y_test_no_tifu)"
   ]
  },
  {
   "cell_type": "code",
   "execution_count": 15,
   "metadata": {},
   "outputs": [
    {
     "data": {
      "text/plain": [
       "0.9783333333333334"
      ]
     },
     "execution_count": 15,
     "metadata": {},
     "output_type": "execute_result"
    }
   ],
   "source": [
    "pipe_final = Pipeline([('cvec', CountVectorizer(max_features = 270, \n",
    "                                                ngram_range = (1,1), \n",
    "                                                stop_words = stops)),\n",
    "                      ('tree', DecisionTreeClassifier(max_depth = 60, \n",
    "                                                      min_samples_leaf = 3, \n",
    "                                                      min_samples_split = 6, \n",
    "                                                      random_state = 42))])\n",
    "pipe_final.fit(X_train_no_tifu, y_train_no_tifu)\n",
    "pipe_final.score(X_test_no_tifu, y_test_no_tifu)"
   ]
  },
  {
   "cell_type": "markdown",
   "metadata": {},
   "source": [
    "## Getting the relevant features from the model"
   ]
  },
  {
   "cell_type": "code",
   "execution_count": 16,
   "metadata": {
    "scrolled": true
   },
   "outputs": [
    {
     "data": {
      "text/plain": [
       "array([0.00000000e+00, 0.00000000e+00, 0.00000000e+00, 0.00000000e+00,\n",
       "       0.00000000e+00, 0.00000000e+00, 0.00000000e+00, 0.00000000e+00,\n",
       "       0.00000000e+00, 6.05723929e-05, 0.00000000e+00, 2.27040578e-03,\n",
       "       0.00000000e+00, 0.00000000e+00, 0.00000000e+00, 0.00000000e+00,\n",
       "       0.00000000e+00, 0.00000000e+00, 0.00000000e+00, 0.00000000e+00,\n",
       "       0.00000000e+00, 0.00000000e+00, 0.00000000e+00, 0.00000000e+00,\n",
       "       0.00000000e+00, 0.00000000e+00, 0.00000000e+00, 0.00000000e+00,\n",
       "       0.00000000e+00, 6.10066538e-05, 0.00000000e+00, 0.00000000e+00,\n",
       "       0.00000000e+00, 0.00000000e+00, 0.00000000e+00, 0.00000000e+00,\n",
       "       0.00000000e+00, 0.00000000e+00, 0.00000000e+00, 0.00000000e+00,\n",
       "       0.00000000e+00, 0.00000000e+00, 9.26867372e-05, 0.00000000e+00,\n",
       "       0.00000000e+00, 0.00000000e+00, 0.00000000e+00, 0.00000000e+00,\n",
       "       0.00000000e+00, 0.00000000e+00, 0.00000000e+00, 0.00000000e+00,\n",
       "       0.00000000e+00, 6.40553609e-01, 0.00000000e+00, 1.58374920e-04,\n",
       "       0.00000000e+00, 0.00000000e+00, 0.00000000e+00, 0.00000000e+00,\n",
       "       6.67491830e-05, 0.00000000e+00, 0.00000000e+00, 0.00000000e+00,\n",
       "       0.00000000e+00, 6.03184690e-05, 0.00000000e+00, 0.00000000e+00,\n",
       "       0.00000000e+00, 0.00000000e+00, 0.00000000e+00, 0.00000000e+00,\n",
       "       0.00000000e+00, 6.31408533e-05, 0.00000000e+00, 0.00000000e+00,\n",
       "       6.89255907e-04, 0.00000000e+00, 0.00000000e+00, 2.72621460e-02,\n",
       "       0.00000000e+00, 0.00000000e+00, 0.00000000e+00, 0.00000000e+00,\n",
       "       0.00000000e+00, 5.16673738e-04, 8.20994946e-03, 4.20406033e-04,\n",
       "       8.84119132e-03, 0.00000000e+00, 4.88213053e-03, 0.00000000e+00,\n",
       "       8.05627856e-03, 6.05790904e-05, 6.62510547e-05, 0.00000000e+00,\n",
       "       0.00000000e+00, 3.99461791e-04, 7.03285682e-03, 0.00000000e+00,\n",
       "       0.00000000e+00, 0.00000000e+00, 0.00000000e+00, 0.00000000e+00,\n",
       "       0.00000000e+00, 0.00000000e+00, 0.00000000e+00, 0.00000000e+00,\n",
       "       0.00000000e+00, 0.00000000e+00, 0.00000000e+00, 0.00000000e+00,\n",
       "       0.00000000e+00, 0.00000000e+00, 5.84647099e-05, 0.00000000e+00,\n",
       "       0.00000000e+00, 6.94025844e-04, 0.00000000e+00, 0.00000000e+00,\n",
       "       0.00000000e+00, 0.00000000e+00, 5.68402926e-04, 0.00000000e+00,\n",
       "       0.00000000e+00, 0.00000000e+00, 1.09250589e-04, 1.47304242e-03,\n",
       "       0.00000000e+00, 0.00000000e+00, 0.00000000e+00, 0.00000000e+00,\n",
       "       0.00000000e+00, 1.36963026e-04, 0.00000000e+00, 0.00000000e+00,\n",
       "       4.64822950e-04, 6.19959509e-05, 0.00000000e+00, 0.00000000e+00,\n",
       "       5.21394394e-05, 0.00000000e+00, 0.00000000e+00, 6.36913960e-04,\n",
       "       0.00000000e+00, 0.00000000e+00, 6.37180606e-05, 0.00000000e+00,\n",
       "       2.88564974e-03, 0.00000000e+00, 0.00000000e+00, 0.00000000e+00,\n",
       "       0.00000000e+00, 0.00000000e+00, 6.34117238e-05, 0.00000000e+00,\n",
       "       6.19370326e-05, 0.00000000e+00, 0.00000000e+00, 0.00000000e+00,\n",
       "       0.00000000e+00, 0.00000000e+00, 0.00000000e+00, 0.00000000e+00,\n",
       "       0.00000000e+00, 0.00000000e+00, 0.00000000e+00, 8.18603132e-05,\n",
       "       0.00000000e+00, 0.00000000e+00, 0.00000000e+00, 1.22635235e-04,\n",
       "       0.00000000e+00, 0.00000000e+00, 0.00000000e+00, 0.00000000e+00,\n",
       "       5.73953610e-03, 4.01375307e-03, 0.00000000e+00, 0.00000000e+00,\n",
       "       0.00000000e+00, 0.00000000e+00, 0.00000000e+00, 0.00000000e+00,\n",
       "       0.00000000e+00, 6.44182591e-05, 5.63196231e-05, 0.00000000e+00,\n",
       "       0.00000000e+00, 0.00000000e+00, 0.00000000e+00, 0.00000000e+00,\n",
       "       5.78281559e-05, 0.00000000e+00, 0.00000000e+00, 2.64061334e-03,\n",
       "       0.00000000e+00, 0.00000000e+00, 7.13828035e-05, 0.00000000e+00,\n",
       "       0.00000000e+00, 0.00000000e+00, 6.72803436e-05, 0.00000000e+00,\n",
       "       0.00000000e+00, 0.00000000e+00, 6.15934293e-05, 6.62100905e-05,\n",
       "       0.00000000e+00, 0.00000000e+00, 0.00000000e+00, 6.38459324e-05,\n",
       "       0.00000000e+00, 1.34407688e-02, 0.00000000e+00, 0.00000000e+00,\n",
       "       0.00000000e+00, 1.79963046e-03, 0.00000000e+00, 0.00000000e+00,\n",
       "       0.00000000e+00, 0.00000000e+00, 0.00000000e+00, 0.00000000e+00,\n",
       "       6.00694007e-05, 0.00000000e+00, 0.00000000e+00, 0.00000000e+00,\n",
       "       0.00000000e+00, 0.00000000e+00, 3.26868203e-04, 0.00000000e+00,\n",
       "       4.58027293e-04, 2.45419179e-01, 0.00000000e+00, 0.00000000e+00,\n",
       "       0.00000000e+00, 0.00000000e+00, 3.90225993e-04, 0.00000000e+00,\n",
       "       0.00000000e+00, 0.00000000e+00, 0.00000000e+00, 7.03572469e-05,\n",
       "       0.00000000e+00, 0.00000000e+00, 0.00000000e+00, 0.00000000e+00,\n",
       "       0.00000000e+00, 0.00000000e+00, 0.00000000e+00, 0.00000000e+00,\n",
       "       0.00000000e+00, 0.00000000e+00, 0.00000000e+00, 0.00000000e+00,\n",
       "       0.00000000e+00, 6.57338179e-03, 0.00000000e+00, 0.00000000e+00,\n",
       "       6.66143361e-05, 0.00000000e+00, 0.00000000e+00, 1.05855251e-03,\n",
       "       7.42659828e-05, 0.00000000e+00, 0.00000000e+00, 0.00000000e+00,\n",
       "       0.00000000e+00, 0.00000000e+00])"
      ]
     },
     "execution_count": 16,
     "metadata": {},
     "output_type": "execute_result"
    }
   ],
   "source": [
    "pipe_final['tree'].feature_importances_"
   ]
  },
  {
   "cell_type": "code",
   "execution_count": 17,
   "metadata": {},
   "outputs": [
    {
     "data": {
      "text/plain": [
       "270"
      ]
     },
     "execution_count": 17,
     "metadata": {},
     "output_type": "execute_result"
    }
   ],
   "source": [
    "pipe_final['tree'].n_features_"
   ]
  },
  {
   "cell_type": "code",
   "execution_count": 18,
   "metadata": {
    "scrolled": true
   },
   "outputs": [
    {
     "data": {
      "text/plain": [
       "{'trying': 240,\n",
       " 'probably': 178,\n",
       " 'started': 210,\n",
       " 'yesterday': 269,\n",
       " 'today': 234,\n",
       " '10': 0,\n",
       " 'instead': 121,\n",
       " 'decided': 48,\n",
       " 'would': 263,\n",
       " 'get': 85,\n",
       " 'done': 51,\n",
       " 'got': 94,\n",
       " 'well': 256,\n",
       " 'go': 90,\n",
       " 'give': 89,\n",
       " 'look': 137,\n",
       " 'find': 73,\n",
       " 'first': 74,\n",
       " 'hear': 105,\n",
       " 'one': 167,\n",
       " 'guy': 97,\n",
       " 'say': 192,\n",
       " 'something': 207,\n",
       " 'says': 194,\n",
       " 'let': 131,\n",
       " 'know': 126,\n",
       " 'little': 134,\n",
       " 'think': 226,\n",
       " 'much': 154,\n",
       " 'wife': 259,\n",
       " 'comes': 39,\n",
       " 'guys': 98,\n",
       " 'door': 52,\n",
       " 'start': 209,\n",
       " 'used': 245,\n",
       " 'making': 144,\n",
       " 'even': 61,\n",
       " 'car': 34,\n",
       " 'lot': 140,\n",
       " 'best': 25,\n",
       " 'found': 75,\n",
       " 'etc': 60,\n",
       " 'still': 211,\n",
       " 'tl': 232,\n",
       " 'dr': 53,\n",
       " 'tried': 238,\n",
       " 'take': 217,\n",
       " 'could': 42,\n",
       " 'make': 143,\n",
       " 'edit': 54,\n",
       " 'since': 202,\n",
       " 'many': 146,\n",
       " 'people': 171,\n",
       " 'story': 213,\n",
       " 'https': 117,\n",
       " 'com': 37,\n",
       " 'basically': 22,\n",
       " 'felt': 71,\n",
       " 'way': 252,\n",
       " 'use': 244,\n",
       " 'talking': 220,\n",
       " 'another': 11,\n",
       " 'also': 8,\n",
       " 'seen': 197,\n",
       " 'idea': 118,\n",
       " 'guess': 96,\n",
       " 'move': 153,\n",
       " 'things': 225,\n",
       " 'thanks': 223,\n",
       " 'looked': 138,\n",
       " 'girl': 87,\n",
       " 'came': 33,\n",
       " 'like': 133,\n",
       " 'us': 243,\n",
       " 'pretty': 177,\n",
       " 'bed': 24,\n",
       " 'ass': 18,\n",
       " 'course': 44,\n",
       " 'hey': 108,\n",
       " 'long': 136,\n",
       " 'body': 29,\n",
       " 'whole': 258,\n",
       " 'big': 27,\n",
       " 'taking': 218,\n",
       " 'actually': 4,\n",
       " 'feeling': 70,\n",
       " 'friend': 76,\n",
       " 'post': 176,\n",
       " 'anything': 13,\n",
       " 'fucking': 81,\n",
       " 'accidentally': 2,\n",
       " 'hit': 110,\n",
       " 'oh': 164,\n",
       " 'shit': 199,\n",
       " 'fuck': 79,\n",
       " 'friends': 77,\n",
       " 'see': 196,\n",
       " 'however': 116,\n",
       " 'bit': 28,\n",
       " 'everyone': 64,\n",
       " 'couple': 43,\n",
       " 'family': 68,\n",
       " 'happen': 101,\n",
       " 'face': 67,\n",
       " 'want': 248,\n",
       " 'night': 161,\n",
       " 'almost': 6,\n",
       " 'tell': 221,\n",
       " 'hand': 100,\n",
       " 'enough': 58,\n",
       " 'leave': 129,\n",
       " 'wrong': 264,\n",
       " 'part': 170,\n",
       " 'reddit': 186,\n",
       " 'working': 262,\n",
       " 'class': 35,\n",
       " 'high': 109,\n",
       " 'really': 185,\n",
       " 'work': 261,\n",
       " 'need': 156,\n",
       " 'someone': 206,\n",
       " 'help': 107,\n",
       " 'phone': 173,\n",
       " 'said': 190,\n",
       " 'went': 257,\n",
       " 'room': 189,\n",
       " 'away': 19,\n",
       " 'happened': 102,\n",
       " 'ago': 5,\n",
       " 'person': 172,\n",
       " 'years': 267,\n",
       " 'old': 166,\n",
       " 'call': 31,\n",
       " 'already': 7,\n",
       " 'back': 20,\n",
       " 'stop': 212,\n",
       " 'bathroom': 23,\n",
       " 'sure': 216,\n",
       " 'always': 9,\n",
       " 'together': 235,\n",
       " 'later': 128,\n",
       " 'amp': 10,\n",
       " 'x200b': 265,\n",
       " 'time': 230,\n",
       " 'getting': 86,\n",
       " 'never': 157,\n",
       " 'day': 46,\n",
       " 'without': 260,\n",
       " 'looking': 139,\n",
       " 'times': 231,\n",
       " 'small': 205,\n",
       " 'office': 163,\n",
       " 'close': 36,\n",
       " 'talk': 219,\n",
       " 'days': 47,\n",
       " 'minutes': 148,\n",
       " 'right': 188,\n",
       " 'ever': 62,\n",
       " 'two': 242,\n",
       " 'made': 142,\n",
       " 'keep': 123,\n",
       " 'immediately': 119,\n",
       " 'end': 56,\n",
       " 'water': 251,\n",
       " 'anyone': 12,\n",
       " 'half': 99,\n",
       " 'place': 174,\n",
       " 'house': 115,\n",
       " 'ask': 16,\n",
       " 'last': 127,\n",
       " 'week': 253,\n",
       " 'hours': 114,\n",
       " 'try': 239,\n",
       " 'put': 179,\n",
       " 'watching': 250,\n",
       " 'video': 246,\n",
       " 'hard': 103,\n",
       " 'eye': 66,\n",
       " 'turned': 241,\n",
       " 'quickly': 180,\n",
       " 'left': 130,\n",
       " 'come': 38,\n",
       " 'able': 1,\n",
       " 'sleep': 204,\n",
       " 'going': 92,\n",
       " 'next': 159,\n",
       " 'morning': 151,\n",
       " 'year': 266,\n",
       " 'live': 135,\n",
       " 'girlfriend': 88,\n",
       " 'weeks': 254,\n",
       " 'home': 111,\n",
       " 'bad': 21,\n",
       " 'stuff': 214,\n",
       " 'coming': 40,\n",
       " 'boyfriend': 30,\n",
       " 'took': 237,\n",
       " 'inside': 120,\n",
       " 'hour': 113,\n",
       " 'realized': 184,\n",
       " 'point': 175,\n",
       " 'told': 236,\n",
       " 'good': 93,\n",
       " 'weird': 255,\n",
       " 'around': 15,\n",
       " 'though': 228,\n",
       " 'life': 132,\n",
       " 'great': 95,\n",
       " 'head': 104,\n",
       " 'wanted': 249,\n",
       " 'maybe': 147,\n",
       " 'asked': 17,\n",
       " 'kind': 124,\n",
       " 'mom': 149,\n",
       " 'okay': 165,\n",
       " 'fun': 82,\n",
       " 'sex': 198,\n",
       " 'side': 201,\n",
       " 'months': 150,\n",
       " 'thank': 222,\n",
       " 'saying': 193,\n",
       " 'thing': 224,\n",
       " 'parents': 169,\n",
       " 'else': 55,\n",
       " 'dad': 45,\n",
       " 'ended': 57,\n",
       " 'called': 32,\n",
       " 'open': 168,\n",
       " 'feel': 69,\n",
       " 'super': 215,\n",
       " 'thinking': 227,\n",
       " 'entire': 59,\n",
       " 'sorry': 208,\n",
       " 'school': 195,\n",
       " 'nothing': 162,\n",
       " 'yes': 268,\n",
       " 'goes': 91,\n",
       " 'nice': 160,\n",
       " 'front': 78,\n",
       " 'real': 183,\n",
       " 'saw': 191,\n",
       " 'knew': 125,\n",
       " 'name': 155,\n",
       " 'gave': 84,\n",
       " 'fucked': 80,\n",
       " 'job': 122,\n",
       " 'sister': 203,\n",
       " 'thought': 229,\n",
       " 'comments': 41,\n",
       " 'hot': 112,\n",
       " 'account': 3,\n",
       " 'mother': 152,\n",
       " 'anyway': 14,\n",
       " 'every': 63,\n",
       " 'walked': 247,\n",
       " 'quite': 181,\n",
       " 'new': 158,\n",
       " 'everything': 65,\n",
       " 'love': 141,\n",
       " 'heard': 106,\n",
       " 'finally': 72,\n",
       " 'man': 145,\n",
       " 'tldr': 233,\n",
       " 'doctor': 50,\n",
       " 'game': 83,\n",
       " 'better': 26,\n",
       " 'read': 182,\n",
       " 'shower': 200,\n",
       " 'relationship': 187,\n",
       " 'dick': 49}"
      ]
     },
     "execution_count": 18,
     "metadata": {},
     "output_type": "execute_result"
    }
   ],
   "source": [
    "pipe_final['cvec'].vocabulary_"
   ]
  },
  {
   "cell_type": "code",
   "execution_count": 19,
   "metadata": {},
   "outputs": [],
   "source": [
    "dic = pipe_final['cvec'].vocabulary_\n",
    "word_df = pd.DataFrame()\n",
    "word_df['words'] = dic.keys()\n",
    "word_df['index'] = dic.values()\n",
    "word_df['values'] = pipe_final['tree'].feature_importances_\n",
    "#I know there's supposed to be a better way to do this, but it kept giving it to me wrong if I put it in the instantiation"
   ]
  },
  {
   "cell_type": "code",
   "execution_count": 20,
   "metadata": {},
   "outputs": [
    {
     "data": {
      "text/html": [
       "<div>\n",
       "<style scoped>\n",
       "    .dataframe tbody tr th:only-of-type {\n",
       "        vertical-align: middle;\n",
       "    }\n",
       "\n",
       "    .dataframe tbody tr th {\n",
       "        vertical-align: top;\n",
       "    }\n",
       "\n",
       "    .dataframe thead th {\n",
       "        text-align: right;\n",
       "    }\n",
       "</style>\n",
       "<table border=\"1\" class=\"dataframe\">\n",
       "  <thead>\n",
       "    <tr style=\"text-align: right;\">\n",
       "      <th></th>\n",
       "      <th>words</th>\n",
       "      <th>index</th>\n",
       "      <th>values</th>\n",
       "    </tr>\n",
       "  </thead>\n",
       "  <tbody>\n",
       "    <tr>\n",
       "      <th>0</th>\n",
       "      <td>trying</td>\n",
       "      <td>240</td>\n",
       "      <td>0.0</td>\n",
       "    </tr>\n",
       "    <tr>\n",
       "      <th>1</th>\n",
       "      <td>probably</td>\n",
       "      <td>178</td>\n",
       "      <td>0.0</td>\n",
       "    </tr>\n",
       "    <tr>\n",
       "      <th>2</th>\n",
       "      <td>started</td>\n",
       "      <td>210</td>\n",
       "      <td>0.0</td>\n",
       "    </tr>\n",
       "    <tr>\n",
       "      <th>3</th>\n",
       "      <td>yesterday</td>\n",
       "      <td>269</td>\n",
       "      <td>0.0</td>\n",
       "    </tr>\n",
       "    <tr>\n",
       "      <th>4</th>\n",
       "      <td>today</td>\n",
       "      <td>234</td>\n",
       "      <td>0.0</td>\n",
       "    </tr>\n",
       "  </tbody>\n",
       "</table>\n",
       "</div>"
      ],
      "text/plain": [
       "       words  index  values\n",
       "0     trying    240     0.0\n",
       "1   probably    178     0.0\n",
       "2    started    210     0.0\n",
       "3  yesterday    269     0.0\n",
       "4      today    234     0.0"
      ]
     },
     "execution_count": 20,
     "metadata": {},
     "output_type": "execute_result"
    }
   ],
   "source": [
    "word_df.head()"
   ]
  },
  {
   "cell_type": "code",
   "execution_count": 21,
   "metadata": {},
   "outputs": [],
   "source": [
    "words_df = word_df.sort_values('values', ascending= False)"
   ]
  },
  {
   "cell_type": "code",
   "execution_count": 22,
   "metadata": {},
   "outputs": [
    {
     "data": {
      "text/html": [
       "<div>\n",
       "<style scoped>\n",
       "    .dataframe tbody tr th:only-of-type {\n",
       "        vertical-align: middle;\n",
       "    }\n",
       "\n",
       "    .dataframe tbody tr th {\n",
       "        vertical-align: top;\n",
       "    }\n",
       "\n",
       "    .dataframe thead th {\n",
       "        text-align: right;\n",
       "    }\n",
       "</style>\n",
       "<table border=\"1\" class=\"dataframe\">\n",
       "  <thead>\n",
       "    <tr style=\"text-align: right;\">\n",
       "      <th></th>\n",
       "      <th>words</th>\n",
       "      <th>index</th>\n",
       "      <th>values</th>\n",
       "    </tr>\n",
       "  </thead>\n",
       "  <tbody>\n",
       "    <tr>\n",
       "      <th>53</th>\n",
       "      <td>story</td>\n",
       "      <td>213</td>\n",
       "      <td>0.640554</td>\n",
       "    </tr>\n",
       "    <tr>\n",
       "      <th>233</th>\n",
       "      <td>school</td>\n",
       "      <td>195</td>\n",
       "      <td>0.245419</td>\n",
       "    </tr>\n",
       "    <tr>\n",
       "      <th>79</th>\n",
       "      <td>long</td>\n",
       "      <td>136</td>\n",
       "      <td>0.027262</td>\n",
       "    </tr>\n",
       "    <tr>\n",
       "      <th>213</th>\n",
       "      <td>mom</td>\n",
       "      <td>149</td>\n",
       "      <td>0.013441</td>\n",
       "    </tr>\n",
       "    <tr>\n",
       "      <th>88</th>\n",
       "      <td>anything</td>\n",
       "      <td>13</td>\n",
       "      <td>0.008841</td>\n",
       "    </tr>\n",
       "    <tr>\n",
       "      <th>86</th>\n",
       "      <td>friend</td>\n",
       "      <td>76</td>\n",
       "      <td>0.008210</td>\n",
       "    </tr>\n",
       "    <tr>\n",
       "      <th>92</th>\n",
       "      <td>oh</td>\n",
       "      <td>164</td>\n",
       "      <td>0.008056</td>\n",
       "    </tr>\n",
       "    <tr>\n",
       "      <th>98</th>\n",
       "      <td>bit</td>\n",
       "      <td>28</td>\n",
       "      <td>0.007033</td>\n",
       "    </tr>\n",
       "    <tr>\n",
       "      <th>257</th>\n",
       "      <td>everything</td>\n",
       "      <td>65</td>\n",
       "      <td>0.006573</td>\n",
       "    </tr>\n",
       "    <tr>\n",
       "      <th>176</th>\n",
       "      <td>hard</td>\n",
       "      <td>103</td>\n",
       "      <td>0.005740</td>\n",
       "    </tr>\n",
       "    <tr>\n",
       "      <th>90</th>\n",
       "      <td>accidentally</td>\n",
       "      <td>2</td>\n",
       "      <td>0.004882</td>\n",
       "    </tr>\n",
       "    <tr>\n",
       "      <th>177</th>\n",
       "      <td>eye</td>\n",
       "      <td>66</td>\n",
       "      <td>0.004014</td>\n",
       "    </tr>\n",
       "    <tr>\n",
       "      <th>148</th>\n",
       "      <td>looking</td>\n",
       "      <td>139</td>\n",
       "      <td>0.002886</td>\n",
       "    </tr>\n",
       "    <tr>\n",
       "      <th>195</th>\n",
       "      <td>boyfriend</td>\n",
       "      <td>30</td>\n",
       "      <td>0.002641</td>\n",
       "    </tr>\n",
       "    <tr>\n",
       "      <th>11</th>\n",
       "      <td>got</td>\n",
       "      <td>94</td>\n",
       "      <td>0.002270</td>\n",
       "    </tr>\n",
       "    <tr>\n",
       "      <th>217</th>\n",
       "      <td>side</td>\n",
       "      <td>201</td>\n",
       "      <td>0.001800</td>\n",
       "    </tr>\n",
       "    <tr>\n",
       "      <th>127</th>\n",
       "      <td>happened</td>\n",
       "      <td>102</td>\n",
       "      <td>0.001473</td>\n",
       "    </tr>\n",
       "    <tr>\n",
       "      <th>263</th>\n",
       "      <td>doctor</td>\n",
       "      <td>50</td>\n",
       "      <td>0.001059</td>\n",
       "    </tr>\n",
       "    <tr>\n",
       "      <th>117</th>\n",
       "      <td>really</td>\n",
       "      <td>185</td>\n",
       "      <td>0.000694</td>\n",
       "    </tr>\n",
       "    <tr>\n",
       "      <th>76</th>\n",
       "      <td>ass</td>\n",
       "      <td>18</td>\n",
       "      <td>0.000689</td>\n",
       "    </tr>\n",
       "    <tr>\n",
       "      <th>143</th>\n",
       "      <td>time</td>\n",
       "      <td>230</td>\n",
       "      <td>0.000637</td>\n",
       "    </tr>\n",
       "    <tr>\n",
       "      <th>122</th>\n",
       "      <td>phone</td>\n",
       "      <td>173</td>\n",
       "      <td>0.000568</td>\n",
       "    </tr>\n",
       "    <tr>\n",
       "      <th>85</th>\n",
       "      <td>feeling</td>\n",
       "      <td>70</td>\n",
       "      <td>0.000517</td>\n",
       "    </tr>\n",
       "    <tr>\n",
       "      <th>136</th>\n",
       "      <td>bathroom</td>\n",
       "      <td>23</td>\n",
       "      <td>0.000465</td>\n",
       "    </tr>\n",
       "    <tr>\n",
       "      <th>232</th>\n",
       "      <td>sorry</td>\n",
       "      <td>208</td>\n",
       "      <td>0.000458</td>\n",
       "    </tr>\n",
       "  </tbody>\n",
       "</table>\n",
       "</div>"
      ],
      "text/plain": [
       "            words  index    values\n",
       "53          story    213  0.640554\n",
       "233        school    195  0.245419\n",
       "79           long    136  0.027262\n",
       "213           mom    149  0.013441\n",
       "88       anything     13  0.008841\n",
       "86         friend     76  0.008210\n",
       "92             oh    164  0.008056\n",
       "98            bit     28  0.007033\n",
       "257    everything     65  0.006573\n",
       "176          hard    103  0.005740\n",
       "90   accidentally      2  0.004882\n",
       "177           eye     66  0.004014\n",
       "148       looking    139  0.002886\n",
       "195     boyfriend     30  0.002641\n",
       "11            got     94  0.002270\n",
       "217          side    201  0.001800\n",
       "127      happened    102  0.001473\n",
       "263        doctor     50  0.001059\n",
       "117        really    185  0.000694\n",
       "76            ass     18  0.000689\n",
       "143          time    230  0.000637\n",
       "122         phone    173  0.000568\n",
       "85        feeling     70  0.000517\n",
       "136      bathroom     23  0.000465\n",
       "232         sorry    208  0.000458"
      ]
     },
     "execution_count": 22,
     "metadata": {},
     "output_type": "execute_result"
    }
   ],
   "source": [
    "words_df.head(25)"
   ]
  },
  {
   "cell_type": "code",
   "execution_count": 23,
   "metadata": {},
   "outputs": [
    {
     "data": {
      "image/png": "[encoded data removed]",
      "text/plain": [
       "<Figure size 864x864 with 1 Axes>"
      ]
     },
     "metadata": {
      "needs_background": "light"
     },
     "output_type": "display_data"
    }
   ],
   "source": [
    "plt.figure(figsize = (12,12), )\n",
    "plt.title('Modeling Importance Of Specific Words', size = 24)\n",
    "plt.bar(words_df['words'].head(10), words_df['values'].head(10))\n",
    "plt.xticks(size = 15);"
   ]
  },
  {
   "cell_type": "code",
   "execution_count": 24,
   "metadata": {},
   "outputs": [
    {
     "data": {
      "text/html": [
       "<div>\n",
       "<style scoped>\n",
       "    .dataframe tbody tr th:only-of-type {\n",
       "        vertical-align: middle;\n",
       "    }\n",
       "\n",
       "    .dataframe tbody tr th {\n",
       "        vertical-align: top;\n",
       "    }\n",
       "\n",
       "    .dataframe thead th {\n",
       "        text-align: right;\n",
       "    }\n",
       "</style>\n",
       "<table border=\"1\" class=\"dataframe\">\n",
       "  <thead>\n",
       "    <tr style=\"text-align: right;\">\n",
       "      <th></th>\n",
       "      <th>pred nsq</th>\n",
       "      <th>pred tifu</th>\n",
       "    </tr>\n",
       "  </thead>\n",
       "  <tbody>\n",
       "    <tr>\n",
       "      <th>actual nsq</th>\n",
       "      <td>294</td>\n",
       "      <td>6</td>\n",
       "    </tr>\n",
       "    <tr>\n",
       "      <th>actual tifu</th>\n",
       "      <td>7</td>\n",
       "      <td>293</td>\n",
       "    </tr>\n",
       "  </tbody>\n",
       "</table>\n",
       "</div>"
      ],
      "text/plain": [
       "             pred nsq  pred tifu\n",
       "actual nsq        294          6\n",
       "actual tifu         7        293"
      ]
     },
     "execution_count": 24,
     "metadata": {},
     "output_type": "execute_result"
    }
   ],
   "source": [
    "pred_tree = pipe_final.predict(X_test_no_tifu)\n",
    "pd.DataFrame(confusion_matrix(y_test, pred_tree), columns = ['pred nsq', 'pred tifu'], index = ['actual nsq', 'actual tifu'])\n"
   ]
  },
  {
   "cell_type": "code",
   "execution_count": null,
   "metadata": {},
   "outputs": [],
   "source": []
  },
  {
   "cell_type": "markdown",
   "metadata": {},
   "source": [
    "## Let's try Bayesian"
   ]
  },
  {
   "cell_type": "code",
   "execution_count": 25,
   "metadata": {},
   "outputs": [],
   "source": [
    "from sklearn.naive_bayes import BernoulliNB, MultinomialNB, GaussianNB"
   ]
  },
  {
   "cell_type": "code",
   "execution_count": 26,
   "metadata": {},
   "outputs": [
    {
     "name": "stdout",
     "output_type": "stream",
     "text": [
      "Fitting 5 folds for each of 800 candidates, totalling 4000 fits\n"
     ]
    },
    {
     "name": "stderr",
     "output_type": "stream",
     "text": [
      "[Parallel(n_jobs=-1)]: Using backend LokyBackend with 8 concurrent workers.\n",
      "[Parallel(n_jobs=-1)]: Done  34 tasks      | elapsed:    4.6s\n",
      "[Parallel(n_jobs=-1)]: Done 184 tasks      | elapsed:   20.1s\n",
      "[Parallel(n_jobs=-1)]: Done 434 tasks      | elapsed:   46.1s\n",
      "[Parallel(n_jobs=-1)]: Done 784 tasks      | elapsed:  2.3min\n",
      "[Parallel(n_jobs=-1)]: Done 1234 tasks      | elapsed:  3.8min\n",
      "[Parallel(n_jobs=-1)]: Done 1784 tasks      | elapsed:  5.5min\n",
      "[Parallel(n_jobs=-1)]: Done 2434 tasks      | elapsed:  7.1min\n",
      "[Parallel(n_jobs=-1)]: Done 3184 tasks      | elapsed:  9.6min\n",
      "[Parallel(n_jobs=-1)]: Done 4000 out of 4000 | elapsed: 12.3min finished\n"
     ]
    },
    {
     "data": {
      "text/plain": [
       "GridSearchCV(cv=5, error_score='raise-deprecating',\n",
       "             estimator=Pipeline(memory=None,\n",
       "                                steps=[('cvec',\n",
       "                                        CountVectorizer(analyzer='word',\n",
       "                                                        binary=False,\n",
       "                                                        decode_error='strict',\n",
       "                                                        dtype=<class 'numpy.int64'>,\n",
       "                                                        encoding='utf-8',\n",
       "                                                        input='content',\n",
       "                                                        lowercase=True,\n",
       "                                                        max_df=1.0,\n",
       "                                                        max_features=None,\n",
       "                                                        min_df=1,\n",
       "                                                        ngram_range=(1, 1),\n",
       "                                                        preprocessor=None,\n",
       "                                                        stop_words=['i', 'me',\n",
       "                                                                    'my',\n",
       "                                                                    'myself',\n",
       "                                                                    'we...\n",
       "       1.09749877e-06, 1.23284674e-06, 1.38488637e-06, 1.55567614e-06,\n",
       "       1.74752840e-06, 1.96304065e-06, 2.20513074e-06, 2.47707636e-06,\n",
       "       2.78255940e-06, 3.12571585e-06, 3.51119173e-06, 3.94420606e-06,\n",
       "       4.43062146e-06, 4.97702356e-06, 5.59081018e-06, 6.28029144e-06,\n",
       "       7.05480231e-06, 7.92482898e-06, 8.90215085e-06, 1.00000000e-05])},\n",
       "             pre_dispatch='2*n_jobs', refit=True, return_train_score=False,\n",
       "             scoring=None, verbose=True)"
      ]
     },
     "execution_count": 26,
     "metadata": {},
     "output_type": "execute_result"
    }
   ],
   "source": [
    "params_bayes = {\n",
    "    'cvec__max_features': [70,170,270,370],\n",
    "    'cvec__ngram_range': [(1,1), (1,2)],\n",
    "    'multi__alpha': np.logspace(-10,-5,100)\n",
    "}\n",
    "pipe_bern = Pipeline([('cvec', CountVectorizer(stop_words = stops)),\n",
    "                      ('multi', BernoulliNB())])\n",
    "grid_bern = GridSearchCV(pipe_bern, param_grid = params_bayes, n_jobs = -1, verbose = True, cv = 5)\n",
    "grid_bern.fit(X_train_no_tifu, y_train_no_tifu)\n"
   ]
  },
  {
   "cell_type": "code",
   "execution_count": 27,
   "metadata": {},
   "outputs": [
    {
     "name": "stdout",
     "output_type": "stream",
     "text": [
      "0.9661111111111111\n",
      "0.9683333333333334\n"
     ]
    },
    {
     "data": {
      "text/plain": [
       "{'cvec__max_features': 270,\n",
       " 'cvec__ngram_range': (1, 1),\n",
       " 'multi__alpha': 2.310129700083158e-09}"
      ]
     },
     "execution_count": 27,
     "metadata": {},
     "output_type": "execute_result"
    }
   ],
   "source": [
    "print(grid_bern.best_score_)\n",
    "print(grid_bern.score(X_test_no_tifu, y_test_no_tifu))\n",
    "grid_bern.best_params_"
   ]
  },
  {
   "cell_type": "code",
   "execution_count": 28,
   "metadata": {},
   "outputs": [
    {
     "data": {
      "text/plain": [
       "0.9683333333333334"
      ]
     },
     "execution_count": 28,
     "metadata": {},
     "output_type": "execute_result"
    }
   ],
   "source": [
    "pipe_bern = Pipeline([('cvec', CountVectorizer(max_features = 270, ngram_range = (1,1), stop_words = stops)),\n",
    "                      ('multi', BernoulliNB(alpha = 2.310129700083158e-09))])\n",
    "pipe_bern.fit(X_train_no_tifu, y_train_no_tifu)\n",
    "pipe_bern.score(X_test_no_tifu, y_test_no_tifu)"
   ]
  },
  {
   "cell_type": "code",
   "execution_count": 29,
   "metadata": {},
   "outputs": [
    {
     "data": {
      "text/html": [
       "<div>\n",
       "<style scoped>\n",
       "    .dataframe tbody tr th:only-of-type {\n",
       "        vertical-align: middle;\n",
       "    }\n",
       "\n",
       "    .dataframe tbody tr th {\n",
       "        vertical-align: top;\n",
       "    }\n",
       "\n",
       "    .dataframe thead th {\n",
       "        text-align: right;\n",
       "    }\n",
       "</style>\n",
       "<table border=\"1\" class=\"dataframe\">\n",
       "  <thead>\n",
       "    <tr style=\"text-align: right;\">\n",
       "      <th></th>\n",
       "      <th>pred nsq</th>\n",
       "      <th>pred tifu</th>\n",
       "    </tr>\n",
       "  </thead>\n",
       "  <tbody>\n",
       "    <tr>\n",
       "      <th>actual nsq</th>\n",
       "      <td>288</td>\n",
       "      <td>12</td>\n",
       "    </tr>\n",
       "    <tr>\n",
       "      <th>actual tifu</th>\n",
       "      <td>7</td>\n",
       "      <td>293</td>\n",
       "    </tr>\n",
       "  </tbody>\n",
       "</table>\n",
       "</div>"
      ],
      "text/plain": [
       "             pred nsq  pred tifu\n",
       "actual nsq        288         12\n",
       "actual tifu         7        293"
      ]
     },
     "execution_count": 29,
     "metadata": {},
     "output_type": "execute_result"
    }
   ],
   "source": [
    "pred_bern = pipe_bern.predict(X_test_no_tifu)\n",
    "pd.DataFrame(confusion_matrix(y_test, pred_bern), columns = ['pred nsq', 'pred tifu'], index = ['actual nsq', 'actual tifu'])\n"
   ]
  },
  {
   "cell_type": "code",
   "execution_count": null,
   "metadata": {},
   "outputs": [],
   "source": []
  }
 ],
 "metadata": {
  "kernelspec": {
   "display_name": "Python [conda env:dsi]",
   "language": "python",
   "name": "conda-env-dsi-py"
  },
  "language_info": {
   "codemirror_mode": {
    "name": "ipython",
    "version": 3
   },
   "file_extension": ".py",
   "mimetype": "text/x-python",
   "name": "python",
   "nbconvert_exporter": "python",
   "pygments_lexer": "ipython3",
   "version": "3.7.3"
  }
 },
 "nbformat": 4,
 "nbformat_minor": 2
}
