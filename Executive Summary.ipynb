{
 "cells": [
  {
   "cell_type": "markdown",
   "metadata": {},
   "source": [
    "## Step 1: Outline the problem"
   ]
  },
  {
   "cell_type": "markdown",
   "metadata": {},
   "source": [
    "How can one differentiate between two different subreddit on the popular site reddit? "
   ]
  },
  {
   "cell_type": "markdown",
   "metadata": {},
   "source": [
    "## Step 2: TIFU and NoStupdQuestions"
   ]
  },
  {
   "cell_type": "markdown",
   "metadata": {},
   "source": [
    "TIFU: Today I Fucked up. Each post is a story, told brutally honestly, of a time and a place the author \"fucked up\", be it a humorous story of a good intention gone wrong or a cringe-worthy foray into life, romance, or business, all for the meagre points and praise of the denizens of the internet. \n",
    "\n",
    "There are some rules that must be followed for every poster, such as: \n",
    "- Every post must start with TIFU\n",
    "- Every post must have at least 750 characters of content\n",
    "- Must be a story that contains a \"fuckup\", not a death/injury"
   ]
  },
  {
   "cell_type": "markdown",
   "metadata": {},
   "source": [
    "NoStupidQuestions: No Stupid Questions. Each post is a simple question that may be a very thoughtful question, a completely inane one, or one that people just don't feel comfortable asking in real life to people they know? The anonymity of the internet is key here. \n",
    "\n",
    "Some of the rules that this subreddit must abide by:\n",
    "- No repeat questions\n",
    "- No joke questions\n",
    "- No questions relating to suicide or sexuality(was I raped/harassed? etc.)\n",
    "- No self-promotion\n",
    "- No illegal/unethical/disturbing material\n"
   ]
  },
  {
   "cell_type": "markdown",
   "metadata": {},
   "source": [
    "The moderators of both sites have ultimate power of choice as to what content appears on the subreddit, so one can be reasonably certain that any post that is up on the site passes muster. "
   ]
  },
  {
   "cell_type": "markdown",
   "metadata": {},
   "source": [
    "## Step 3: EDA"
   ]
  },
  {
   "cell_type": "code",
   "execution_count": 5,
   "metadata": {},
   "outputs": [],
   "source": [
    "import pandas as pd\n",
    "import matplotlib.pyplot as plt \n",
    "from nltk.tokenize import RegexpTokenizer\n",
    "from nltk.corpus import stopwords\n",
    "import wordcloud"
   ]
  },
  {
   "cell_type": "code",
   "execution_count": 6,
   "metadata": {},
   "outputs": [],
   "source": [
    "df = pd.read_csv('final.csv')"
   ]
  },
  {
   "cell_type": "code",
   "execution_count": 16,
   "metadata": {
    "scrolled": false
   },
   "outputs": [
    {
     "data": {
      "image/png": "[encoded data removed]",
      "text/plain": [
       "<Figure size 432x432 with 1 Axes>"
      ]
     },
     "metadata": {
      "needs_background": "light"
     },
     "output_type": "display_data"
    }
   ],
   "source": [
    "plt.figure(figsize = (6,6))\n",
    "plt.title('TIFU posts by line count', size = 18)\n",
    "df[df['subreddit_tifu'] == 1]['line_count'].hist(bins = 12)"
   ]
  },
  {
   "cell_type": "code",
   "execution_count": 17,
   "metadata": {
    "scrolled": false
   },
   "outputs": [
    {
     "data": {
      "text/plain": [
       "<matplotlib.axes._subplots.AxesSubplot at 0x20dcdd259b0>"
      ]
     },
     "execution_count": 17,
     "metadata": {},
     "output_type": "execute_result"
    },
    {
     "data": {
      "image/png": "[encoded data removed]",
      "text/plain": [
       "<Figure size 432x432 with 1 Axes>"
      ]
     },
     "metadata": {
      "needs_background": "light"
     },
     "output_type": "display_data"
    }
   ],
   "source": [
    "plt.figure(figsize = (6,6))\n",
    "plt.title('NSQ posts by line count', size = 18)\n",
    "df[df['subreddit_tifu'] == 0]['line_count'].hist(bins = 12)"
   ]
  },
  {
   "cell_type": "markdown",
   "metadata": {},
   "source": [
    "In general, posts from TIFU had a far larger amount of line indents, denoted by \\n. "
   ]
  },
  {
   "cell_type": "markdown",
   "metadata": {},
   "source": [
    "Skipping some of the longer intermediate steps(See EDA Notebook), I also compiled WordClouds of each of the highest usage words for the subreddits: "
   ]
  },
  {
   "cell_type": "markdown",
   "metadata": {},
   "source": [
    "### NoStupidQuestions:\n",
    "\n",
    "![](images/nsq_wordcloud.png)"
   ]
  },
  {
   "cell_type": "markdown",
   "metadata": {},
   "source": [
    "### TIFU:\n",
    "\n",
    "![](images/tifu_wordcloud.png)"
   ]
  },
  {
   "cell_type": "markdown",
   "metadata": {},
   "source": [
    "## Step 4: Modeling"
   ]
  },
  {
   "cell_type": "markdown",
   "metadata": {},
   "source": [
    "First pass: Standard DecisionTreeClassifier. Was a tad strong. Accuracy score of...1\n",
    "\n",
    "![](images/Model1_Perfect.png)\n"
   ]
  },
  {
   "cell_type": "markdown",
   "metadata": {},
   "source": [
    "Second idea: Remove the all-important word that literally began every single post: TIFU. That got me this with another DEcisionTreeClassifier. Accuracy score of 97.8%\n",
    "\n",
    "![](images/Model2_97.8.png)"
   ]
  },
  {
   "cell_type": "markdown",
   "metadata": {},
   "source": [
    "Third idea: Try a Bernoilli Naive Bayes model instead. Accuracy score of 96.8%\n",
    "\n",
    "![](images/model3_96.8.png)"
   ]
  },
  {
   "cell_type": "markdown",
   "metadata": {},
   "source": [
    "## Step 5: Conclusions/Takeaways"
   ]
  },
  {
   "cell_type": "markdown",
   "metadata": {},
   "source": [
    "Turns out, with the right models, it is rather easy to differentiate the two subreddits, even after removing the glaring indicator at the beginning of every post. The style of posting and writing was different enough for the model, which was not particularly adept at understanding context, to pick up enough for some rather accurate predictions. Not perfect, once the glaring indicator was gone, but still very good. In the future I would be interested in improving upon my model, gathering more posts, and possibly interacting with comments, something I immediately shied away from as an unnecessary complication. "
   ]
  },
  {
   "cell_type": "code",
   "execution_count": null,
   "metadata": {},
   "outputs": [],
   "source": []
  }
 ],
 "metadata": {
  "kernelspec": {
   "display_name": "Python [conda env:dsi]",
   "language": "python",
   "name": "conda-env-dsi-py"
  },
  "language_info": {
   "codemirror_mode": {
    "name": "ipython",
    "version": 3
   },
   "file_extension": ".py",
   "mimetype": "text/x-python",
   "name": "python",
   "nbconvert_exporter": "python",
   "pygments_lexer": "ipython3",
   "version": "3.7.3"
  }
 },
 "nbformat": 4,
 "nbformat_minor": 2
}
